{
 "cells": [
  {
   "cell_type": "markdown",
   "id": "aa7cdc70",
   "metadata": {},
   "source": [
    "### Case study-3\n",
    "Description about data: The data set (cust_seg) is information of 200\n",
    "customers who were part of the last campaign conducted by one of the major\n",
    "Bank-credit card division. The CMO would like to test below hypothesis based\n",
    "on the data.\n"
   ]
  },
  {
   "cell_type": "code",
   "execution_count": 105,
   "id": "c8197ae9",
   "metadata": {},
   "outputs": [],
   "source": [
    "import os\n",
    "import pandas as pd\n",
    "import numpy as np\n",
    "from scipy import stats"
   ]
  },
  {
   "cell_type": "code",
   "execution_count": 106,
   "id": "fb755d51",
   "metadata": {},
   "outputs": [
    {
     "data": {
      "text/plain": [
       "['.ipynb_checkpoints',\n",
       " 'Class exercise.ipynb',\n",
       " 'Class1_BasicPython.ipynb',\n",
       " 'cust_seg.csv',\n",
       " 'DataTypes.ipynb',\n",
       " 'EDA.ipynb',\n",
       " 'EDAII.ipynb',\n",
       " 'Hypothesis Testing- Case Study.pdf',\n",
       " 'Hypothesis-Testing.ipynb',\n",
       " 'Packages.ipynb',\n",
       " 'Untitled.ipynb',\n",
       " 'Viz.ipynb']"
      ]
     },
     "execution_count": 106,
     "metadata": {},
     "output_type": "execute_result"
    }
   ],
   "source": [
    "os.listdir()"
   ]
  },
  {
   "cell_type": "code",
   "execution_count": 107,
   "id": "8f027606",
   "metadata": {},
   "outputs": [],
   "source": [
    "cust=pd.read_csv(\"cust_seg.csv\")"
   ]
  },
  {
   "cell_type": "code",
   "execution_count": 108,
   "id": "0bcc2055",
   "metadata": {},
   "outputs": [
    {
     "data": {
      "text/html": [
       "<div>\n",
       "<style scoped>\n",
       "    .dataframe tbody tr th:only-of-type {\n",
       "        vertical-align: middle;\n",
       "    }\n",
       "\n",
       "    .dataframe tbody tr th {\n",
       "        vertical-align: top;\n",
       "    }\n",
       "\n",
       "    .dataframe thead th {\n",
       "        text-align: right;\n",
       "    }\n",
       "</style>\n",
       "<table border=\"1\" class=\"dataframe\">\n",
       "  <thead>\n",
       "    <tr style=\"text-align: right;\">\n",
       "      <th></th>\n",
       "      <th>custid</th>\n",
       "      <th>sex</th>\n",
       "      <th>AqChannel</th>\n",
       "      <th>region</th>\n",
       "      <th>Marital_status</th>\n",
       "      <th>segment</th>\n",
       "      <th>pre_usage</th>\n",
       "      <th>Post_usage_1month</th>\n",
       "      <th>Latest_mon_usage</th>\n",
       "      <th>post_usage_2ndmonth</th>\n",
       "    </tr>\n",
       "  </thead>\n",
       "  <tbody>\n",
       "    <tr>\n",
       "      <th>0</th>\n",
       "      <td>70</td>\n",
       "      <td>0</td>\n",
       "      <td>4</td>\n",
       "      <td>1</td>\n",
       "      <td>1</td>\n",
       "      <td>1</td>\n",
       "      <td>57</td>\n",
       "      <td>52</td>\n",
       "      <td>49.2</td>\n",
       "      <td>57.2</td>\n",
       "    </tr>\n",
       "    <tr>\n",
       "      <th>1</th>\n",
       "      <td>121</td>\n",
       "      <td>1</td>\n",
       "      <td>4</td>\n",
       "      <td>2</td>\n",
       "      <td>1</td>\n",
       "      <td>3</td>\n",
       "      <td>68</td>\n",
       "      <td>59</td>\n",
       "      <td>63.6</td>\n",
       "      <td>64.9</td>\n",
       "    </tr>\n",
       "    <tr>\n",
       "      <th>2</th>\n",
       "      <td>86</td>\n",
       "      <td>0</td>\n",
       "      <td>4</td>\n",
       "      <td>3</td>\n",
       "      <td>1</td>\n",
       "      <td>1</td>\n",
       "      <td>44</td>\n",
       "      <td>33</td>\n",
       "      <td>64.8</td>\n",
       "      <td>36.3</td>\n",
       "    </tr>\n",
       "    <tr>\n",
       "      <th>3</th>\n",
       "      <td>141</td>\n",
       "      <td>0</td>\n",
       "      <td>4</td>\n",
       "      <td>3</td>\n",
       "      <td>1</td>\n",
       "      <td>3</td>\n",
       "      <td>63</td>\n",
       "      <td>44</td>\n",
       "      <td>56.4</td>\n",
       "      <td>48.4</td>\n",
       "    </tr>\n",
       "    <tr>\n",
       "      <th>4</th>\n",
       "      <td>172</td>\n",
       "      <td>0</td>\n",
       "      <td>4</td>\n",
       "      <td>2</td>\n",
       "      <td>1</td>\n",
       "      <td>2</td>\n",
       "      <td>47</td>\n",
       "      <td>52</td>\n",
       "      <td>68.4</td>\n",
       "      <td>57.2</td>\n",
       "    </tr>\n",
       "  </tbody>\n",
       "</table>\n",
       "</div>"
      ],
      "text/plain": [
       "   custid  sex  AqChannel  region  Marital_status  segment  pre_usage  \\\n",
       "0      70    0          4       1               1        1         57   \n",
       "1     121    1          4       2               1        3         68   \n",
       "2      86    0          4       3               1        1         44   \n",
       "3     141    0          4       3               1        3         63   \n",
       "4     172    0          4       2               1        2         47   \n",
       "\n",
       "   Post_usage_1month  Latest_mon_usage  post_usage_2ndmonth  \n",
       "0                 52              49.2                 57.2  \n",
       "1                 59              63.6                 64.9  \n",
       "2                 33              64.8                 36.3  \n",
       "3                 44              56.4                 48.4  \n",
       "4                 52              68.4                 57.2  "
      ]
     },
     "execution_count": 108,
     "metadata": {},
     "output_type": "execute_result"
    }
   ],
   "source": [
    "cust.head()"
   ]
  },
  {
   "cell_type": "code",
   "execution_count": 109,
   "id": "4f03fd3d",
   "metadata": {},
   "outputs": [
    {
     "data": {
      "text/html": [
       "<div>\n",
       "<style scoped>\n",
       "    .dataframe tbody tr th:only-of-type {\n",
       "        vertical-align: middle;\n",
       "    }\n",
       "\n",
       "    .dataframe tbody tr th {\n",
       "        vertical-align: top;\n",
       "    }\n",
       "\n",
       "    .dataframe thead th {\n",
       "        text-align: right;\n",
       "    }\n",
       "</style>\n",
       "<table border=\"1\" class=\"dataframe\">\n",
       "  <thead>\n",
       "    <tr style=\"text-align: right;\">\n",
       "      <th></th>\n",
       "      <th>custid</th>\n",
       "      <th>sex</th>\n",
       "      <th>AqChannel</th>\n",
       "      <th>region</th>\n",
       "      <th>Marital_status</th>\n",
       "      <th>segment</th>\n",
       "      <th>pre_usage</th>\n",
       "      <th>Post_usage_1month</th>\n",
       "      <th>Latest_mon_usage</th>\n",
       "      <th>post_usage_2ndmonth</th>\n",
       "    </tr>\n",
       "  </thead>\n",
       "  <tbody>\n",
       "    <tr>\n",
       "      <th>195</th>\n",
       "      <td>31</td>\n",
       "      <td>1</td>\n",
       "      <td>2</td>\n",
       "      <td>2</td>\n",
       "      <td>2</td>\n",
       "      <td>1</td>\n",
       "      <td>55</td>\n",
       "      <td>59</td>\n",
       "      <td>62.4</td>\n",
       "      <td>64.9</td>\n",
       "    </tr>\n",
       "    <tr>\n",
       "      <th>196</th>\n",
       "      <td>145</td>\n",
       "      <td>1</td>\n",
       "      <td>4</td>\n",
       "      <td>2</td>\n",
       "      <td>1</td>\n",
       "      <td>3</td>\n",
       "      <td>42</td>\n",
       "      <td>46</td>\n",
       "      <td>45.6</td>\n",
       "      <td>50.6</td>\n",
       "    </tr>\n",
       "    <tr>\n",
       "      <th>197</th>\n",
       "      <td>187</td>\n",
       "      <td>1</td>\n",
       "      <td>4</td>\n",
       "      <td>2</td>\n",
       "      <td>2</td>\n",
       "      <td>1</td>\n",
       "      <td>57</td>\n",
       "      <td>41</td>\n",
       "      <td>68.4</td>\n",
       "      <td>45.1</td>\n",
       "    </tr>\n",
       "    <tr>\n",
       "      <th>198</th>\n",
       "      <td>118</td>\n",
       "      <td>1</td>\n",
       "      <td>4</td>\n",
       "      <td>2</td>\n",
       "      <td>1</td>\n",
       "      <td>1</td>\n",
       "      <td>55</td>\n",
       "      <td>62</td>\n",
       "      <td>69.6</td>\n",
       "      <td>68.2</td>\n",
       "    </tr>\n",
       "    <tr>\n",
       "      <th>199</th>\n",
       "      <td>137</td>\n",
       "      <td>1</td>\n",
       "      <td>4</td>\n",
       "      <td>3</td>\n",
       "      <td>1</td>\n",
       "      <td>2</td>\n",
       "      <td>63</td>\n",
       "      <td>65</td>\n",
       "      <td>78.0</td>\n",
       "      <td>71.5</td>\n",
       "    </tr>\n",
       "  </tbody>\n",
       "</table>\n",
       "</div>"
      ],
      "text/plain": [
       "     custid  sex  AqChannel  region  Marital_status  segment  pre_usage  \\\n",
       "195      31    1          2       2               2        1         55   \n",
       "196     145    1          4       2               1        3         42   \n",
       "197     187    1          4       2               2        1         57   \n",
       "198     118    1          4       2               1        1         55   \n",
       "199     137    1          4       3               1        2         63   \n",
       "\n",
       "     Post_usage_1month  Latest_mon_usage  post_usage_2ndmonth  \n",
       "195                 59              62.4                 64.9  \n",
       "196                 46              45.6                 50.6  \n",
       "197                 41              68.4                 45.1  \n",
       "198                 62              69.6                 68.2  \n",
       "199                 65              78.0                 71.5  "
      ]
     },
     "execution_count": 109,
     "metadata": {},
     "output_type": "execute_result"
    }
   ],
   "source": [
    "cust.tail()"
   ]
  },
  {
   "cell_type": "markdown",
   "id": "0be285af",
   "metadata": {},
   "source": [
    "## Data Dictionary\n",
    " * custid: Customer ID/unique\n",
    " * sex:  Gender of customer /0:M, 1:F \n",
    " * AqChannel: platform or channel they acqured the customer/1:office, 2:online, 3:DSA, 4:other channel \n",
    " * region:  Demographic location/1: east, 2:west, 3:north, 4:south\n",
    " * Marital_status:  Marital status/1:Unmarried, 2:Married\n",
    " * segment:  1: Rich class, 2:middle class, 3:lower class\n",
    " * pre_usage: spending on credit card before campaign \n",
    " * Post_usage_1month: spending on credit card after 1 month of the campaign launch\n",
    " * Latest_mon_usage: spending on credit card latest month after the campaign launch\n",
    " * post_usage_2ndmonth: spending on credit card after 2 months of the campaign launch"
   ]
  },
  {
   "cell_type": "code",
   "execution_count": 110,
   "id": "65bee1cc",
   "metadata": {},
   "outputs": [
    {
     "name": "stdout",
     "output_type": "stream",
     "text": [
      "<class 'pandas.core.frame.DataFrame'>\n",
      "RangeIndex: 200 entries, 0 to 199\n",
      "Data columns (total 10 columns):\n",
      " #   Column               Non-Null Count  Dtype  \n",
      "---  ------               --------------  -----  \n",
      " 0   custid               200 non-null    int64  \n",
      " 1   sex                  200 non-null    int64  \n",
      " 2   AqChannel            200 non-null    int64  \n",
      " 3   region               200 non-null    int64  \n",
      " 4   Marital_status       200 non-null    int64  \n",
      " 5   segment              200 non-null    int64  \n",
      " 6   pre_usage            200 non-null    int64  \n",
      " 7   Post_usage_1month    200 non-null    int64  \n",
      " 8   Latest_mon_usage     200 non-null    float64\n",
      " 9   post_usage_2ndmonth  200 non-null    float64\n",
      "dtypes: float64(2), int64(8)\n",
      "memory usage: 15.8 KB\n"
     ]
    }
   ],
   "source": [
    "cust.info()"
   ]
  },
  {
   "cell_type": "code",
   "execution_count": 111,
   "id": "9add6316",
   "metadata": {},
   "outputs": [
    {
     "data": {
      "text/html": [
       "<div>\n",
       "<style scoped>\n",
       "    .dataframe tbody tr th:only-of-type {\n",
       "        vertical-align: middle;\n",
       "    }\n",
       "\n",
       "    .dataframe tbody tr th {\n",
       "        vertical-align: top;\n",
       "    }\n",
       "\n",
       "    .dataframe thead th {\n",
       "        text-align: right;\n",
       "    }\n",
       "</style>\n",
       "<table border=\"1\" class=\"dataframe\">\n",
       "  <thead>\n",
       "    <tr style=\"text-align: right;\">\n",
       "      <th></th>\n",
       "      <th>custid</th>\n",
       "      <th>sex</th>\n",
       "      <th>AqChannel</th>\n",
       "      <th>region</th>\n",
       "      <th>Marital_status</th>\n",
       "      <th>segment</th>\n",
       "      <th>pre_usage</th>\n",
       "      <th>Post_usage_1month</th>\n",
       "      <th>Latest_mon_usage</th>\n",
       "      <th>post_usage_2ndmonth</th>\n",
       "    </tr>\n",
       "  </thead>\n",
       "  <tbody>\n",
       "    <tr>\n",
       "      <th>count</th>\n",
       "      <td>200.000000</td>\n",
       "      <td>200.00000</td>\n",
       "      <td>200.000000</td>\n",
       "      <td>200.000000</td>\n",
       "      <td>200.000000</td>\n",
       "      <td>200.000000</td>\n",
       "      <td>200.000000</td>\n",
       "      <td>200.000000</td>\n",
       "      <td>200.000000</td>\n",
       "      <td>200.000000</td>\n",
       "    </tr>\n",
       "    <tr>\n",
       "      <th>mean</th>\n",
       "      <td>100.500000</td>\n",
       "      <td>0.54500</td>\n",
       "      <td>3.430000</td>\n",
       "      <td>2.055000</td>\n",
       "      <td>1.160000</td>\n",
       "      <td>2.025000</td>\n",
       "      <td>52.230000</td>\n",
       "      <td>52.775000</td>\n",
       "      <td>63.174000</td>\n",
       "      <td>58.052500</td>\n",
       "    </tr>\n",
       "    <tr>\n",
       "      <th>std</th>\n",
       "      <td>57.879185</td>\n",
       "      <td>0.49922</td>\n",
       "      <td>1.039472</td>\n",
       "      <td>0.724291</td>\n",
       "      <td>0.367526</td>\n",
       "      <td>0.690477</td>\n",
       "      <td>10.252937</td>\n",
       "      <td>9.478586</td>\n",
       "      <td>11.242137</td>\n",
       "      <td>10.426445</td>\n",
       "    </tr>\n",
       "    <tr>\n",
       "      <th>min</th>\n",
       "      <td>1.000000</td>\n",
       "      <td>0.00000</td>\n",
       "      <td>1.000000</td>\n",
       "      <td>1.000000</td>\n",
       "      <td>1.000000</td>\n",
       "      <td>1.000000</td>\n",
       "      <td>28.000000</td>\n",
       "      <td>31.000000</td>\n",
       "      <td>39.600000</td>\n",
       "      <td>34.100000</td>\n",
       "    </tr>\n",
       "    <tr>\n",
       "      <th>25%</th>\n",
       "      <td>50.750000</td>\n",
       "      <td>0.00000</td>\n",
       "      <td>3.000000</td>\n",
       "      <td>2.000000</td>\n",
       "      <td>1.000000</td>\n",
       "      <td>2.000000</td>\n",
       "      <td>44.000000</td>\n",
       "      <td>45.750000</td>\n",
       "      <td>54.000000</td>\n",
       "      <td>50.325000</td>\n",
       "    </tr>\n",
       "    <tr>\n",
       "      <th>50%</th>\n",
       "      <td>100.500000</td>\n",
       "      <td>1.00000</td>\n",
       "      <td>4.000000</td>\n",
       "      <td>2.000000</td>\n",
       "      <td>1.000000</td>\n",
       "      <td>2.000000</td>\n",
       "      <td>50.000000</td>\n",
       "      <td>54.000000</td>\n",
       "      <td>62.400000</td>\n",
       "      <td>59.400000</td>\n",
       "    </tr>\n",
       "    <tr>\n",
       "      <th>75%</th>\n",
       "      <td>150.250000</td>\n",
       "      <td>1.00000</td>\n",
       "      <td>4.000000</td>\n",
       "      <td>3.000000</td>\n",
       "      <td>1.000000</td>\n",
       "      <td>2.250000</td>\n",
       "      <td>60.000000</td>\n",
       "      <td>60.000000</td>\n",
       "      <td>70.800000</td>\n",
       "      <td>66.000000</td>\n",
       "    </tr>\n",
       "    <tr>\n",
       "      <th>max</th>\n",
       "      <td>200.000000</td>\n",
       "      <td>1.00000</td>\n",
       "      <td>4.000000</td>\n",
       "      <td>3.000000</td>\n",
       "      <td>2.000000</td>\n",
       "      <td>3.000000</td>\n",
       "      <td>76.000000</td>\n",
       "      <td>67.000000</td>\n",
       "      <td>90.000000</td>\n",
       "      <td>73.700000</td>\n",
       "    </tr>\n",
       "  </tbody>\n",
       "</table>\n",
       "</div>"
      ],
      "text/plain": [
       "           custid        sex   AqChannel      region  Marital_status  \\\n",
       "count  200.000000  200.00000  200.000000  200.000000      200.000000   \n",
       "mean   100.500000    0.54500    3.430000    2.055000        1.160000   \n",
       "std     57.879185    0.49922    1.039472    0.724291        0.367526   \n",
       "min      1.000000    0.00000    1.000000    1.000000        1.000000   \n",
       "25%     50.750000    0.00000    3.000000    2.000000        1.000000   \n",
       "50%    100.500000    1.00000    4.000000    2.000000        1.000000   \n",
       "75%    150.250000    1.00000    4.000000    3.000000        1.000000   \n",
       "max    200.000000    1.00000    4.000000    3.000000        2.000000   \n",
       "\n",
       "          segment   pre_usage  Post_usage_1month  Latest_mon_usage  \\\n",
       "count  200.000000  200.000000         200.000000        200.000000   \n",
       "mean     2.025000   52.230000          52.775000         63.174000   \n",
       "std      0.690477   10.252937           9.478586         11.242137   \n",
       "min      1.000000   28.000000          31.000000         39.600000   \n",
       "25%      2.000000   44.000000          45.750000         54.000000   \n",
       "50%      2.000000   50.000000          54.000000         62.400000   \n",
       "75%      2.250000   60.000000          60.000000         70.800000   \n",
       "max      3.000000   76.000000          67.000000         90.000000   \n",
       "\n",
       "       post_usage_2ndmonth  \n",
       "count           200.000000  \n",
       "mean             58.052500  \n",
       "std              10.426445  \n",
       "min              34.100000  \n",
       "25%              50.325000  \n",
       "50%              59.400000  \n",
       "75%              66.000000  \n",
       "max              73.700000  "
      ]
     },
     "execution_count": 111,
     "metadata": {},
     "output_type": "execute_result"
    }
   ],
   "source": [
    "cust.describe()"
   ]
  },
  {
   "cell_type": "markdown",
   "id": "71285efa",
   "metadata": {},
   "source": [
    "## Q1.\n",
    "Card usage has been improved significantly from last year usage which is 50. (Hint:\n",
    "Comparing card usage of post campaign of 1 month with last year hypothesized value\n",
    "50)\\\n",
    "### NB:\\\n",
    "one sample t-test is a statistical procedure where you wanted to test that where your population mean is different than a constant value(fix number). For example, a school wants to test that average mean of GPA for grad students is 3.0. They will use one sample t-test and can get the result.\n",
    "\n",
    "Two sample t-test is also a statistical procedure where you are interested in testing whether these two population has the same mean or different mean. In the same example if the school is interested in testing that average GPA for science major and arts major is the same. Then they would have used two-sample t-test.\n"
   ]
  },
  {
   "cell_type": "code",
   "execution_count": 112,
   "id": "2a6aa03a",
   "metadata": {},
   "outputs": [],
   "source": [
    "# Ho: avg usage in this yr=50 (There's no sig change in cr card usage)\n",
    "# Ha: avg usage in this yr!=50 (There's sig change in cr card usage)\n",
    "# Test: t-test=> 1 sample test (since ther's one pop/hypo mean)\n",
    "# Decision rule:\n",
    "#                          Let CI=99% (i.e. alpha=0.01)\n",
    "#                               if p-value> alpha, accept Ho\n",
    "#                               if p-value< alpha, reject Ho and accept Ha"
   ]
  },
  {
   "cell_type": "code",
   "execution_count": 113,
   "id": "b1ecdd65",
   "metadata": {},
   "outputs": [
    {
     "data": {
      "text/plain": [
       "Ttest_1sampResult(statistic=4.140324966963025, pvalue=5.1209194607163335e-05)"
      ]
     },
     "execution_count": 113,
     "metadata": {},
     "output_type": "execute_result"
    }
   ],
   "source": [
    "stats.ttest_1samp(a=cust[\"Post_usage_1month\"], popmean=50) # a :Sample observation, popmean : Expected value in null hypothesis Ho."
   ]
  },
  {
   "cell_type": "markdown",
   "id": "535106b3",
   "metadata": {},
   "source": [
    "p-value=0.0000512< alpha=0.01 ==> fail to accept Ho, and we accept Ha.\\\n",
    "i.e. There's sig change in Cr card usage from last yr"
   ]
  },
  {
   "cell_type": "code",
   "execution_count": 114,
   "id": "19b42f4f",
   "metadata": {},
   "outputs": [
    {
     "data": {
      "text/plain": [
       "52.23"
      ]
     },
     "execution_count": 114,
     "metadata": {},
     "output_type": "execute_result"
    }
   ],
   "source": [
    "cust[\"pre_usage\"].mean()   # mean far from 50, Ho "
   ]
  },
  {
   "cell_type": "markdown",
   "id": "f327162c",
   "metadata": {},
   "source": [
    "## Q2\n",
    "The last campaign was successful in terms usage of credit card.\\\n",
    "## NB:\n",
    "paired samples t-test is used to compare the means of two samples when each observation in one sample can be paired with an observation in the other sample.\\\n",
    "commonly used in two scenarios:\n",
    "\n",
    "* A measurement is taken on a subject before and after some treatment – e.g. the max vertical jump of college basketball players is measured before and after participating in a training program.\n",
    "\n",
    "* A measurement is taken under two different conditions – e.g. the response time of a patient is measured on two different drugs."
   ]
  },
  {
   "cell_type": "code",
   "execution_count": 115,
   "id": "01c75ee7",
   "metadata": {},
   "outputs": [],
   "source": [
    "# Ho: avg card usage before campaign= avg card usage before campaign  (There's no d/ce in pre and poat campaign card usage==> Campaign was not succ)\n",
    "# Ha: avg card usage before campaign<> avg card usage before campaign  (There's d/ce in pre and poat campaign card usage==> Campaign was succ)\n",
    "# Test: t-test=> paired sample t-test (since we are comparing sample pre and post campaign)\n",
    "# Decision rule:\n",
    "#                          Let CI=99% (i.e. alpha=0.01)\n",
    "#                               if p-value> alpha, accept Ho\n",
    "#                               if p-value< alpha, reject Ho and accept Ha\n",
    "# comparing  pre_usage wrt   Post_usage_1month,   Latest_mon_usage,  and then wrt  post_usage_2ndmonth   "
   ]
  },
  {
   "cell_type": "code",
   "execution_count": 116,
   "id": "904a49d8",
   "metadata": {},
   "outputs": [
    {
     "name": "stdout",
     "output_type": "stream",
     "text": [
      "Ttest_relResult(statistic=-0.8673065458794775, pvalue=0.3868186820914985)\n",
      "Ttest_relResult(statistic=-8.866832246938742, pvalue=4.295733828012836e-16)\n",
      "Ttest_relResult(statistic=-17.431588891905882, pvalue=6.336089707623977e-42)\n"
     ]
    }
   ],
   "source": [
    "# stats.ttest_rel(a,b) - is a test for the null hypothesis that two related or repeated samples have identical average\n",
    "p1month=stats.ttest_rel(cust[\"pre_usage\"], cust[\"Post_usage_1month\"])\n",
    "p2month=stats.ttest_rel(cust[\"pre_usage\"], cust[\"post_usage_2ndmonth\"])\n",
    "pLatest=stats.ttest_rel(cust[\"pre_usage\"], cust[\"Latest_mon_usage\"])\n",
    "print(p1month)\n",
    "print(p2month)\n",
    "print(pLatest)"
   ]
  },
  {
   "cell_type": "code",
   "execution_count": 117,
   "id": "c1708b52",
   "metadata": {},
   "outputs": [
    {
     "data": {
      "text/plain": [
       "(52.23, 52.775, 58.05250000000003, 63.17400000000001)"
      ]
     },
     "execution_count": 117,
     "metadata": {},
     "output_type": "execute_result"
    }
   ],
   "source": [
    "cust[\"pre_usage\"].mean(), cust[\"Post_usage_1month\"].mean(), cust[\"post_usage_2ndmonth\"].mean(), cust[\"Latest_mon_usage\"].mean()"
   ]
  },
  {
   "cell_type": "markdown",
   "id": "ea7bbf48",
   "metadata": {},
   "source": [
    " Campaign has no immediate effect==> no effect after 1 monthe, but has effect after 2 months and in the latest month"
   ]
  },
  {
   "cell_type": "markdown",
   "id": "208b639c",
   "metadata": {},
   "source": [
    "## Q3\n",
    "Is there any difference between males & females in terms of credit card usage? (\n",
    "## NB:"
   ]
  },
  {
   "cell_type": "code",
   "execution_count": 118,
   "id": "fb48c310",
   "metadata": {},
   "outputs": [],
   "source": [
    "# Ho: avg spending of Male= avg spending of Female (There's no d/ce)\n",
    "# Ha: avg spending of Male!= avg spending of Female (There's d/ce)\n",
    "# Test: t-test=> independence t-test (This is a test for the null hypothesis that 2 independent samples have identical average (expected) values.)\n",
    "# Decision rule:\n",
    "#                          Let CI=99% (i.e. alpha=0.01)\n",
    "#                               if p-value> alpha, accept Ho\n",
    "#                               if p-value< alpha, reject Ho and accept Ha\n"
   ]
  },
  {
   "cell_type": "code",
   "execution_count": 119,
   "id": "a5f01711",
   "metadata": {},
   "outputs": [],
   "source": [
    "# ? stats.ttest_ind"
   ]
  },
  {
   "cell_type": "code",
   "execution_count": 120,
   "id": "e733fe1a",
   "metadata": {},
   "outputs": [
    {
     "data": {
      "text/html": [
       "<div>\n",
       "<style scoped>\n",
       "    .dataframe tbody tr th:only-of-type {\n",
       "        vertical-align: middle;\n",
       "    }\n",
       "\n",
       "    .dataframe tbody tr th {\n",
       "        vertical-align: top;\n",
       "    }\n",
       "\n",
       "    .dataframe thead th {\n",
       "        text-align: right;\n",
       "    }\n",
       "</style>\n",
       "<table border=\"1\" class=\"dataframe\">\n",
       "  <thead>\n",
       "    <tr style=\"text-align: right;\">\n",
       "      <th></th>\n",
       "      <th>custid</th>\n",
       "      <th>sex</th>\n",
       "      <th>AqChannel</th>\n",
       "      <th>region</th>\n",
       "      <th>Marital_status</th>\n",
       "      <th>segment</th>\n",
       "      <th>pre_usage</th>\n",
       "      <th>Post_usage_1month</th>\n",
       "      <th>Latest_mon_usage</th>\n",
       "      <th>post_usage_2ndmonth</th>\n",
       "    </tr>\n",
       "  </thead>\n",
       "  <tbody>\n",
       "    <tr>\n",
       "      <th>0</th>\n",
       "      <td>70</td>\n",
       "      <td>0</td>\n",
       "      <td>4</td>\n",
       "      <td>1</td>\n",
       "      <td>1</td>\n",
       "      <td>1</td>\n",
       "      <td>57</td>\n",
       "      <td>52</td>\n",
       "      <td>49.2</td>\n",
       "      <td>57.2</td>\n",
       "    </tr>\n",
       "    <tr>\n",
       "      <th>1</th>\n",
       "      <td>121</td>\n",
       "      <td>1</td>\n",
       "      <td>4</td>\n",
       "      <td>2</td>\n",
       "      <td>1</td>\n",
       "      <td>3</td>\n",
       "      <td>68</td>\n",
       "      <td>59</td>\n",
       "      <td>63.6</td>\n",
       "      <td>64.9</td>\n",
       "    </tr>\n",
       "  </tbody>\n",
       "</table>\n",
       "</div>"
      ],
      "text/plain": [
       "   custid  sex  AqChannel  region  Marital_status  segment  pre_usage  \\\n",
       "0      70    0          4       1               1        1         57   \n",
       "1     121    1          4       2               1        3         68   \n",
       "\n",
       "   Post_usage_1month  Latest_mon_usage  post_usage_2ndmonth  \n",
       "0                 52              49.2                 57.2  \n",
       "1                 59              63.6                 64.9  "
      ]
     },
     "execution_count": 120,
     "metadata": {},
     "output_type": "execute_result"
    }
   ],
   "source": [
    "cust.head(2)"
   ]
  },
  {
   "cell_type": "markdown",
   "id": "02e7b58e",
   "metadata": {},
   "source": [
    "###  Before Campaign"
   ]
  },
  {
   "cell_type": "code",
   "execution_count": 121,
   "id": "d71e5dc3",
   "metadata": {},
   "outputs": [
    {
     "data": {
      "text/plain": [
       "Ttest_indResult(statistic=-0.7480109580953392, pvalue=0.4553410655360075)"
      ]
     },
     "execution_count": 121,
     "metadata": {},
     "output_type": "execute_result"
    }
   ],
   "source": [
    "s1_female=cust[cust[\"sex\"]==1]\n",
    "s2_male=cust[cust[\"sex\"]==0]\n",
    "stats.ttest_ind(s1_female[\"pre_usage\"],s2_male[\"pre_usage\"])"
   ]
  },
  {
   "cell_type": "code",
   "execution_count": 122,
   "id": "8a194732",
   "metadata": {},
   "outputs": [
    {
     "data": {
      "text/plain": [
       "(51.73394495412844, 52.824175824175825)"
      ]
     },
     "execution_count": 122,
     "metadata": {},
     "output_type": "execute_result"
    }
   ],
   "source": [
    "s1_female[\"pre_usage\"].mean(),s2_male[\"pre_usage\"].mean()"
   ]
  },
  {
   "cell_type": "markdown",
   "id": "5698bf4c",
   "metadata": {},
   "source": [
    "### After 1 month of campaign"
   ]
  },
  {
   "cell_type": "code",
   "execution_count": 123,
   "id": "3279bddf",
   "metadata": {},
   "outputs": [
    {
     "data": {
      "text/plain": [
       "Ttest_indResult(statistic=3.7340738531536797, pvalue=0.00024625461203549315)"
      ]
     },
     "execution_count": 123,
     "metadata": {},
     "output_type": "execute_result"
    }
   ],
   "source": [
    "stats.ttest_ind(s1_female[\"Post_usage_1month\"],s2_male[\"Post_usage_1month\"])"
   ]
  },
  {
   "cell_type": "code",
   "execution_count": 124,
   "id": "4163de72",
   "metadata": {},
   "outputs": [
    {
     "data": {
      "text/plain": [
       "(54.99082568807339, 50.120879120879124)"
      ]
     },
     "execution_count": 124,
     "metadata": {},
     "output_type": "execute_result"
    }
   ],
   "source": [
    "s1_female[\"Post_usage_1month\"].mean(),s2_male[\"Post_usage_1month\"].mean()"
   ]
  },
  {
   "cell_type": "markdown",
   "id": "b81cf3d5",
   "metadata": {},
   "source": [
    "### After 2 months of campaign"
   ]
  },
  {
   "cell_type": "code",
   "execution_count": 125,
   "id": "b528551a",
   "metadata": {},
   "outputs": [
    {
     "data": {
      "text/plain": [
       "Ttest_indResult(statistic=3.7340738531536926, pvalue=0.0002462546120354815)"
      ]
     },
     "execution_count": 125,
     "metadata": {},
     "output_type": "execute_result"
    }
   ],
   "source": [
    "stats.ttest_ind(s1_female[\"post_usage_2ndmonth\"],s2_male[\"post_usage_2ndmonth\"])"
   ]
  },
  {
   "cell_type": "code",
   "execution_count": 126,
   "id": "5fab4e3d",
   "metadata": {},
   "outputs": [
    {
     "data": {
      "text/plain": [
       "(60.48990825688068, 55.13296703296704)"
      ]
     },
     "execution_count": 126,
     "metadata": {},
     "output_type": "execute_result"
    }
   ],
   "source": [
    "s1_female[\"post_usage_2ndmonth\"].mean(),s2_male[\"post_usage_2ndmonth\"].mean()"
   ]
  },
  {
   "cell_type": "markdown",
   "id": "840c89b7",
   "metadata": {},
   "source": [
    "### Latest month after campaign"
   ]
  },
  {
   "cell_type": "code",
   "execution_count": 127,
   "id": "b957bd37",
   "metadata": {},
   "outputs": [
    {
     "data": {
      "text/plain": [
       "Ttest_indResult(statistic=-0.4129986492968787, pvalue=0.680054497423219)"
      ]
     },
     "execution_count": 127,
     "metadata": {},
     "output_type": "execute_result"
    }
   ],
   "source": [
    "stats.ttest_ind(s1_female[\"Latest_mon_usage\"],s2_male[\"Latest_mon_usage\"])"
   ]
  },
  {
   "cell_type": "code",
   "execution_count": 128,
   "id": "27c675ac",
   "metadata": {},
   "outputs": [
    {
     "data": {
      "text/plain": [
       "(62.87339449541283, 63.53406593406595)"
      ]
     },
     "execution_count": 128,
     "metadata": {},
     "output_type": "execute_result"
    }
   ],
   "source": [
    "s1_female[\"Latest_mon_usage\"].mean(),s2_male[\"Latest_mon_usage\"].mean()"
   ]
  },
  {
   "cell_type": "code",
   "execution_count": 129,
   "id": "ee52de9c",
   "metadata": {},
   "outputs": [],
   "source": [
    "# conclusion ????"
   ]
  },
  {
   "cell_type": "markdown",
   "id": "7407e105",
   "metadata": {},
   "source": [
    "## Q4\n",
    "Is there any difference between segments of customers in terms of credit card usage? "
   ]
  },
  {
   "cell_type": "code",
   "execution_count": 130,
   "id": "94244883",
   "metadata": {},
   "outputs": [
    {
     "data": {
      "text/plain": [
       "2    105\n",
       "3     50\n",
       "1     45\n",
       "Name: segment, dtype: int64"
      ]
     },
     "execution_count": 130,
     "metadata": {},
     "output_type": "execute_result"
    }
   ],
   "source": [
    "cust[\"segment\"].value_counts()"
   ]
  },
  {
   "cell_type": "markdown",
   "id": "7ab291c5",
   "metadata": {},
   "source": [
    "\n",
    "## NB:\n",
    "we can't use t-test as we have 3 differenet segment categories. Hence we go with ANOVA\n",
    "* ANOVA test used to compare the means of more than 2 groups (t-test or Z-test can be used to compare 2 groups)\n",
    "* Groups mean differences inferred by analyzing variances\n",
    "* ANOVA uses variance-based F test to check the group mean equality.\n",
    "### ANOVA Hypotheses\n",
    "* Null hypothesis: Groups means are equal (no variation in means of groups)\n",
    "H0: μ1=μ2=…=μp\n",
    "* Alternative hypothesis: At least, one group mean is different from other groups\n",
    "H1: All μ are not equal\n",
    "* One-way/one factor ANOVA compares three or more levels (conditions) of one factor. \n",
    "* On the other hand, two-way ANOVA compares the effect of multiple levels of two factors. In one-way ANOVA, the number of observations need not be same in each group whereas it should be same in the case of two-way ANOVA."
   ]
  },
  {
   "cell_type": "code",
   "execution_count": 131,
   "id": "03ba97d2",
   "metadata": {},
   "outputs": [
    {
     "data": {
      "text/html": [
       "<div>\n",
       "<style scoped>\n",
       "    .dataframe tbody tr th:only-of-type {\n",
       "        vertical-align: middle;\n",
       "    }\n",
       "\n",
       "    .dataframe tbody tr th {\n",
       "        vertical-align: top;\n",
       "    }\n",
       "\n",
       "    .dataframe thead th {\n",
       "        text-align: right;\n",
       "    }\n",
       "</style>\n",
       "<table border=\"1\" class=\"dataframe\">\n",
       "  <thead>\n",
       "    <tr style=\"text-align: right;\">\n",
       "      <th></th>\n",
       "      <th>custid</th>\n",
       "      <th>sex</th>\n",
       "      <th>AqChannel</th>\n",
       "      <th>region</th>\n",
       "      <th>Marital_status</th>\n",
       "      <th>segment</th>\n",
       "      <th>pre_usage</th>\n",
       "      <th>Post_usage_1month</th>\n",
       "      <th>Latest_mon_usage</th>\n",
       "      <th>post_usage_2ndmonth</th>\n",
       "    </tr>\n",
       "  </thead>\n",
       "  <tbody>\n",
       "    <tr>\n",
       "      <th>0</th>\n",
       "      <td>70</td>\n",
       "      <td>0</td>\n",
       "      <td>4</td>\n",
       "      <td>1</td>\n",
       "      <td>1</td>\n",
       "      <td>1</td>\n",
       "      <td>57</td>\n",
       "      <td>52</td>\n",
       "      <td>49.2</td>\n",
       "      <td>57.2</td>\n",
       "    </tr>\n",
       "    <tr>\n",
       "      <th>1</th>\n",
       "      <td>121</td>\n",
       "      <td>1</td>\n",
       "      <td>4</td>\n",
       "      <td>2</td>\n",
       "      <td>1</td>\n",
       "      <td>3</td>\n",
       "      <td>68</td>\n",
       "      <td>59</td>\n",
       "      <td>63.6</td>\n",
       "      <td>64.9</td>\n",
       "    </tr>\n",
       "  </tbody>\n",
       "</table>\n",
       "</div>"
      ],
      "text/plain": [
       "   custid  sex  AqChannel  region  Marital_status  segment  pre_usage  \\\n",
       "0      70    0          4       1               1        1         57   \n",
       "1     121    1          4       2               1        3         68   \n",
       "\n",
       "   Post_usage_1month  Latest_mon_usage  post_usage_2ndmonth  \n",
       "0                 52              49.2                 57.2  \n",
       "1                 59              63.6                 64.9  "
      ]
     },
     "execution_count": 131,
     "metadata": {},
     "output_type": "execute_result"
    }
   ],
   "source": [
    "cust.head(2)"
   ]
  },
  {
   "cell_type": "code",
   "execution_count": 132,
   "id": "4cade6f9",
   "metadata": {},
   "outputs": [],
   "source": [
    "# Ho: avg(seg1)=avg(seg2)=avg(seg3)- no d/ce\\\n",
    "# Ha: avg(seg1)!=avg(seg2)!=avg(seg3)- atleast one has d/f avg \n",
    "# Test: ANOVA\n",
    "# Decision rule:\n",
    "#                       Let CI=99% (i.e. alpha=0.01)\n",
    "#                            if p-value> alpha, accept Ho\n",
    "#                            if p-value< alpha, reject Ho and accept Ha\n"
   ]
  },
  {
   "cell_type": "code",
   "execution_count": 133,
   "id": "4def8392",
   "metadata": {},
   "outputs": [],
   "source": [
    "seg1=cust[cust[\"segment\"]==1]\n",
    "seg2=cust[cust[\"segment\"]==2]\n",
    "seg3=cust[cust[\"segment\"]==3]"
   ]
  },
  {
   "cell_type": "code",
   "execution_count": 134,
   "id": "dc9cb871",
   "metadata": {},
   "outputs": [
    {
     "data": {
      "text/plain": [
       "F_onewayResult(statistic=21.28234763340855, pvalue=4.283274139124812e-09)"
      ]
     },
     "execution_count": 134,
     "metadata": {},
     "output_type": "execute_result"
    }
   ],
   "source": [
    "stats.f_oneway(seg1[\"pre_usage\"], seg2[\"pre_usage\"], seg3[\"pre_usage\"])"
   ]
  },
  {
   "cell_type": "code",
   "execution_count": 135,
   "id": "6bd21b99",
   "metadata": {},
   "outputs": [
    {
     "data": {
      "text/plain": [
       "(49.75555555555555, 56.161904761904765, 46.2)"
      ]
     },
     "execution_count": 135,
     "metadata": {},
     "output_type": "execute_result"
    }
   ],
   "source": [
    "seg1[\"pre_usage\"].mean(), seg2[\"pre_usage\"].mean(), seg3[\"pre_usage\"].mean()"
   ]
  },
  {
   "cell_type": "markdown",
   "id": "b8f81a80",
   "metadata": {},
   "source": [
    "we need to accept Ha"
   ]
  },
  {
   "cell_type": "markdown",
   "id": "a388dcdb",
   "metadata": {},
   "source": [
    "## Q 5\n",
    "Is there any relation between region & Segment?"
   ]
  },
  {
   "cell_type": "code",
   "execution_count": 136,
   "id": "899b357b",
   "metadata": {},
   "outputs": [
    {
     "data": {
      "text/plain": [
       "2    105\n",
       "3     50\n",
       "1     45\n",
       "Name: segment, dtype: int64"
      ]
     },
     "execution_count": 136,
     "metadata": {},
     "output_type": "execute_result"
    }
   ],
   "source": [
    "cust[\"segment\"].value_counts()"
   ]
  },
  {
   "cell_type": "code",
   "execution_count": 137,
   "id": "2b91f505",
   "metadata": {},
   "outputs": [
    {
     "data": {
      "text/plain": [
       "2    95\n",
       "3    58\n",
       "1    47\n",
       "Name: region, dtype: int64"
      ]
     },
     "execution_count": 137,
     "metadata": {},
     "output_type": "execute_result"
    }
   ],
   "source": [
    "cust[\"region\"].value_counts()"
   ]
  },
  {
   "cell_type": "code",
   "execution_count": 138,
   "id": "b980f595",
   "metadata": {},
   "outputs": [],
   "source": [
    "# both are categ types\n",
    "# Ho: there is no asso b/n seg and reg\n",
    "# Ha: there is asso b/n seg and reg\n",
    "# Test: chi-square test tests the null hypothesis that the categorical data has the given frequencies. \n",
    " # Decision rule:\n",
    "#                       Let CI=99% (i.e. alpha=0.01)\n",
    "#                            if p-value> alpha, accept Ho\n",
    "#                            if p-value< alpha, reject Ho and accept Ha\n"
   ]
  },
  {
   "cell_type": "code",
   "execution_count": 139,
   "id": "6556aee6",
   "metadata": {},
   "outputs": [],
   "source": [
    "ch1= pd.crosstab(cust[\"segment\"],cust[\"region\"]) # Compute a simple cross-tabulation of two (or more) factors."
   ]
  },
  {
   "cell_type": "code",
   "execution_count": 140,
   "id": "e2492f2d",
   "metadata": {
    "scrolled": true
   },
   "outputs": [
    {
     "data": {
      "text/plain": [
       "(16.604441649489342,\n",
       " 0.0023066300908054713,\n",
       " 4,\n",
       " array([[10.575, 21.375, 13.05 ],\n",
       "        [24.675, 49.875, 30.45 ],\n",
       "        [11.75 , 23.75 , 14.5  ]]))"
      ]
     },
     "execution_count": 140,
     "metadata": {},
     "output_type": "execute_result"
    }
   ],
   "source": [
    "stats.chi2_contingency(ch1) # the first value is chi sq value,the second value in the ff output is the p-value"
   ]
  },
  {
   "cell_type": "markdown",
   "id": "41046dcd",
   "metadata": {},
   "source": [
    "p-val< alpha val ->there is asso b/n seg and reg "
   ]
  },
  {
   "cell_type": "markdown",
   "id": "24b94500",
   "metadata": {},
   "source": [
    "### Q6\n",
    "Is the relationship between card usage in the latest month and pre usage of campaign? "
   ]
  },
  {
   "cell_type": "code",
   "execution_count": 141,
   "id": "f9be20c5",
   "metadata": {},
   "outputs": [],
   "source": [
    "\n",
    "### NB:\n",
    "# Here the prob is to check the r/s b/n two cont values --> use correlation test\n",
    "# Ho: there is no r/s b/n latest month and pre usage of campaign\n",
    "# Ha: there is r/s b/n latest month and pre usage of campaign\n",
    "# Test: corr\n",
    " # Decision rule:\n",
    "#                       Let CI=99% (i.e. alpha=0.01)\n",
    "#                            if p-value> alpha, accept Ho\n",
    "#                            if p-value< alpha, reject Ho and accept Ha"
   ]
  },
  {
   "cell_type": "code",
   "execution_count": 142,
   "id": "7842f4c8",
   "metadata": {},
   "outputs": [
    {
     "data": {
      "text/html": [
       "<div>\n",
       "<style scoped>\n",
       "    .dataframe tbody tr th:only-of-type {\n",
       "        vertical-align: middle;\n",
       "    }\n",
       "\n",
       "    .dataframe tbody tr th {\n",
       "        vertical-align: top;\n",
       "    }\n",
       "\n",
       "    .dataframe thead th {\n",
       "        text-align: right;\n",
       "    }\n",
       "</style>\n",
       "<table border=\"1\" class=\"dataframe\">\n",
       "  <thead>\n",
       "    <tr style=\"text-align: right;\">\n",
       "      <th></th>\n",
       "      <th>Latest_mon_usage</th>\n",
       "      <th>pre_usage</th>\n",
       "    </tr>\n",
       "  </thead>\n",
       "  <tbody>\n",
       "    <tr>\n",
       "      <th>Latest_mon_usage</th>\n",
       "      <td>1.00000</td>\n",
       "      <td>0.66228</td>\n",
       "    </tr>\n",
       "    <tr>\n",
       "      <th>pre_usage</th>\n",
       "      <td>0.66228</td>\n",
       "      <td>1.00000</td>\n",
       "    </tr>\n",
       "  </tbody>\n",
       "</table>\n",
       "</div>"
      ],
      "text/plain": [
       "                  Latest_mon_usage  pre_usage\n",
       "Latest_mon_usage           1.00000    0.66228\n",
       "pre_usage                  0.66228    1.00000"
      ]
     },
     "execution_count": 142,
     "metadata": {},
     "output_type": "execute_result"
    }
   ],
   "source": [
    "cust[[\"Latest_mon_usage\",\"pre_usage\"]].corr()"
   ]
  },
  {
   "cell_type": "markdown",
   "id": "3b7c2be2",
   "metadata": {},
   "source": [
    "### or \n"
   ]
  },
  {
   "cell_type": "code",
   "execution_count": 143,
   "id": "92a426f4",
   "metadata": {},
   "outputs": [
    {
     "data": {
      "text/plain": [
       "PearsonRResult(statistic=0.6622801251558604, pvalue=1.2767419295069158e-26)"
      ]
     },
     "execution_count": 143,
     "metadata": {},
     "output_type": "execute_result"
    }
   ],
   "source": [
    "stats.pearsonr(cust[\"Latest_mon_usage\"],cust[\"pre_usage\"])"
   ]
  },
  {
   "cell_type": "markdown",
   "id": "983b0010",
   "metadata": {},
   "source": [
    "### or"
   ]
  },
  {
   "cell_type": "code",
   "execution_count": 144,
   "id": "e2528536",
   "metadata": {},
   "outputs": [
    {
     "data": {
      "text/plain": [
       "array([[1.        , 0.66228013],\n",
       "       [0.66228013, 1.        ]])"
      ]
     },
     "execution_count": 144,
     "metadata": {},
     "output_type": "execute_result"
    }
   ],
   "source": [
    "np.corrcoef(cust[\"Latest_mon_usage\"],cust[\"pre_usage\"])"
   ]
  },
  {
   "cell_type": "markdown",
   "id": "96e23349",
   "metadata": {},
   "source": [
    "* In all cases, \\\n",
    "==> r= 0.66228 and p-val=1.2767419....e-26\\\n",
    "==> there is r/s"
   ]
  },
  {
   "cell_type": "markdown",
   "id": "a5f16867",
   "metadata": {},
   "source": [
    "## The End"
   ]
  }
 ],
 "metadata": {
  "kernelspec": {
   "display_name": "Python 3 (ipykernel)",
   "language": "python",
   "name": "python3"
  },
  "language_info": {
   "codemirror_mode": {
    "name": "ipython",
    "version": 3
   },
   "file_extension": ".py",
   "mimetype": "text/x-python",
   "name": "python",
   "nbconvert_exporter": "python",
   "pygments_lexer": "ipython3",
   "version": "3.9.13"
  }
 },
 "nbformat": 4,
 "nbformat_minor": 5
}
